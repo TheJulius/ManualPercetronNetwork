{
  "nbformat": 4,
  "nbformat_minor": 0,
  "metadata": {
    "colab": {
      "provenance": []
    },
    "kernelspec": {
      "name": "python3",
      "display_name": "Python 3"
    },
    "language_info": {
      "name": "python"
    }
  },
  "cells": [
    {
      "cell_type": "code",
      "execution_count": 1,
      "metadata": {
        "id": "njCayZdhjVaf"
      },
      "outputs": [],
      "source": [
        "import numpy as np"
      ]
    },
    {
      "cell_type": "code",
      "source": [
        "entradas = np.array([[0,0],[0,1],[1,0],[1,1]])\n",
        "saidas = np.array([0,0,0,1])\n",
        "pesos = np.array([0.0,0.0])\n",
        "taxaAprendizado = 0.1"
      ],
      "metadata": {
        "id": "ujV152L6jdTb"
      },
      "execution_count": 3,
      "outputs": []
    },
    {
      "cell_type": "code",
      "source": [
        "def perceptron(e):\n",
        "  soma = e.dot(pesos)\n",
        "  \n",
        "  if(soma>=1):\n",
        "    return 1\n",
        "  return 0\n",
        "\n",
        "def treinar():\n",
        "  erroTotal = 1\n",
        "  \n",
        "  while(erroTotal != 0):\n",
        "    erroTotal = 0;\n",
        "    for i in range(len(saidas)):\n",
        "\n",
        "      y = perceptron(np.asarray(entradas[i]))\n",
        "      erro = (saidas[i] - y)\n",
        "      erroTotal += erro\n",
        "      \n",
        "      if(erro != 0):\n",
        "        for j in range(len(pesos)):\n",
        "          pesos[j] = pesos[j] + (taxaAprendizado * erro * entradas[i][j])\n",
        "          print('Peso Atualizado: ' + str(pesos[j]))\n",
        "    print('Total Erros:' + str(erroTotal))"
      ],
      "metadata": {
        "id": "j-dEJMTCkFsm"
      },
      "execution_count": 4,
      "outputs": []
    },
    {
      "cell_type": "code",
      "source": [
        "treinar()"
      ],
      "metadata": {
        "colab": {
          "base_uri": "https://localhost:8080/"
        },
        "id": "_wysWQ_3mIbV",
        "outputId": "e4f76c8e-7129-4fd6-99e5-39f5335b76cc"
      },
      "execution_count": 5,
      "outputs": [
        {
          "output_type": "stream",
          "name": "stdout",
          "text": [
            "Peso Atualizado: 0.1\n",
            "Peso Atualizado: 0.1\n",
            "Total Erros:1\n",
            "Peso Atualizado: 0.2\n",
            "Peso Atualizado: 0.2\n",
            "Total Erros:1\n",
            "Peso Atualizado: 0.30000000000000004\n",
            "Peso Atualizado: 0.30000000000000004\n",
            "Total Erros:1\n",
            "Peso Atualizado: 0.4\n",
            "Peso Atualizado: 0.4\n",
            "Total Erros:1\n",
            "Peso Atualizado: 0.5\n",
            "Peso Atualizado: 0.5\n",
            "Total Erros:1\n",
            "Total Erros:0\n"
          ]
        }
      ]
    }
  ]
}